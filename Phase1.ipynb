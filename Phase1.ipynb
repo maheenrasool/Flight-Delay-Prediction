{
 "cells": [
  {
   "cell_type": "code",
   "execution_count": 860,
   "id": "ded84232-deb3-4b72-b4d3-1a5c92c0b76e",
   "metadata": {},
   "outputs": [],
   "source": [
    "import pandas as pd\n",
    "import numpy as np"
   ]
  },
  {
   "cell_type": "markdown",
   "id": "a0276099-74bd-4a91-9d1e-7055e1e7085b",
   "metadata": {},
   "source": [
    "# Data Preprocessing and Feature Engineering"
   ]
  },
  {
   "cell_type": "code",
   "execution_count": 863,
   "id": "cc8ab919-c223-483f-b59d-6960c2743734",
   "metadata": {},
   "outputs": [],
   "source": [
    "# Function to split a list into chunks of 3 elements\n",
    "def split_into_chunks(lst):\n",
    "    # Create an empty list to store the chunks\n",
    "    chunks = []\n",
    "    \n",
    "    # Loop through the list in steps of chunk_size\n",
    "    for i in range(0, len(lst), 3):\n",
    "        # Slice the list from index i to i + chunk_size and append to chunks\n",
    "        chunk = lst[i:i + 3]\n",
    "        chunks.append(chunk)\n",
    "    \n",
    "    # Return the list of chunks\n",
    "    return chunks"
   ]
  },
  {
   "cell_type": "code",
   "execution_count": 865,
   "id": "fbe505d7-b87a-4394-a20b-d5c33491ec45",
   "metadata": {},
   "outputs": [],
   "source": [
    "w_data_list = []\n",
    "\n",
    "# Read the files sequentially by dynamically generating file paths\n",
    "for i in range(1, 14):\n",
    "    weather_path = f\"ML-Proj-Dataset\\\\Weather\\\\{i}.xlsx\"   # Generate path for each file\n",
    "    w_data_list.append(pd.read_excel(weather_path))\n",
    "\n",
    "# Concatenate all the data into one DataFrame\n",
    "w_data = pd.concat(w_data_list, ignore_index=True)\n",
    "# Convert all string columns to lowercase\n",
    "w_data = w_data.apply(lambda x: x.str.lower() if x.dtype == \"object\" else x)\n",
    "\n",
    "# Now, try removing duplicates\n",
    "w_data = w_data.drop_duplicates()"
   ]
  },
  {
   "cell_type": "code",
   "execution_count": 866,
   "id": "fdb3ef34-679d-4f81-8e1c-55242f3436e7",
   "metadata": {},
   "outputs": [],
   "source": [
    "w_data['Temperature (°F)'] = w_data['Temperature (°F)'].apply(lambda x: x.split(' '))\n",
    "w_data['Dew Point (°F)'] = w_data['Dew Point (°F)'].apply(lambda x: x.split(' '))\n",
    "w_data['Humidity (%)'] = w_data['Humidity (%)'].apply(lambda x: x.split(' '))\n",
    "w_data['Wind Speed (mph)'] = w_data['Wind Speed (mph)'].apply(lambda x: x.split(' '))\n",
    "w_data['Pressure (in)'] = w_data['Pressure (in)'].apply(lambda x: x.split(' '))\n",
    "w_data['Precipitation (in)'] = w_data['Precipitation (in)'].str.split()"
   ]
  },
  {
   "cell_type": "code",
   "execution_count": 869,
   "id": "fb67f01d-5e92-4751-a8ed-bbbeb505b3ad",
   "metadata": {},
   "outputs": [],
   "source": [
    "# Remove the first three non-numeric values (Max, Avg, Min)\n",
    "w_data['Temperature (°F)'] = w_data['Temperature (°F)'].apply(lambda x: x[3:])\n",
    "w_data['Dew Point (°F)'] = w_data['Dew Point (°F)'].apply(lambda x: x[3:])\n",
    "w_data['Humidity (%)'] = w_data['Humidity (%)'].apply(lambda x: x[3:])\n",
    "w_data['Wind Speed (mph)'] = w_data['Wind Speed (mph)'].apply(lambda x: x[3:])\n",
    "w_data['Pressure (in)'] = w_data['Pressure (in)'].apply(lambda x: x[3:])\n",
    "w_data['Precipitation (in)'] = w_data['Precipitation (in)'].apply(lambda x: x[1:])"
   ]
  },
  {
   "cell_type": "code",
   "execution_count": 871,
   "id": "7f50f24e-ac33-4354-b01f-ba1fcc0a2cd3",
   "metadata": {},
   "outputs": [],
   "source": [
    "# w_data = w_data.explode('Date')\n",
    "#Apply this function to each list in the 'Temperature (°F)' column\n",
    "w_data['Temperature (°F)'] = w_data['Temperature (°F)'].apply(lambda x: split_into_chunks(x))\n",
    "w_data['Dew Point (°F)'] = w_data['Dew Point (°F)'].apply(lambda x: split_into_chunks(x))\n",
    "w_data['Humidity (%)'] = w_data['Humidity (%)'].apply(lambda x: split_into_chunks(x))\n",
    "w_data['Wind Speed (mph)'] = w_data['Wind Speed (mph)'].apply(lambda x: split_into_chunks(x))\n",
    "w_data['Pressure (in)'] = w_data['Pressure (in)'].apply(lambda x: split_into_chunks(x))"
   ]
  },
  {
   "cell_type": "code",
   "execution_count": 873,
   "id": "ab0c2bc1-4ca1-4ce7-95e2-4363d8712015",
   "metadata": {},
   "outputs": [],
   "source": [
    "# w_data = process_weather_data(w_data)"
   ]
  },
  {
   "cell_type": "code",
   "execution_count": 875,
   "id": "2d1d2494-8aaf-41c7-8eb4-dce6bc2f81e9",
   "metadata": {},
   "outputs": [],
   "source": [
    "temp = w_data['Temperature (°F)'].explode().reset_index(drop=True)\n",
    "dew =  w_data['Dew Point (°F)'].explode().reset_index(drop=True)\n",
    "hum = w_data['Humidity (%)'].explode().reset_index(drop=True)\n",
    "wind = w_data['Wind Speed (mph)'].explode().reset_index(drop=True)\n",
    "press = w_data['Pressure (in)'].explode().reset_index(drop=True)\n",
    "preci = w_data['Precipitation (in)'].explode().reset_index(drop=True) "
   ]
  },
  {
   "cell_type": "code",
   "execution_count": 877,
   "id": "91adbf35-2651-41c2-8756-6dfb0b1df259",
   "metadata": {},
   "outputs": [],
   "source": [
    "# Assuming 'Time' column contains month and date info like 'Jul 1 2 3 4 5'\n",
    "w_data[['Month', 'Date']] = w_data['Time'].str.split(' ', expand=True, n=1)"
   ]
  },
  {
   "cell_type": "code",
   "execution_count": 879,
   "id": "04f24d03-c35d-47b4-8be8-76fe3e6a1385",
   "metadata": {},
   "outputs": [],
   "source": [
    "# Drop the original 'Time' column\n",
    "w_data['Date'] = w_data['Date'].str.split()\n",
    "\n",
    "# Explode the 'Date' column\n",
    "w_data = w_data.explode('Date', ignore_index=True)\n",
    "w_data['Temperature (°F)'] = temp\n",
    "w_data['Dew Point (°F)'] = dew\n",
    "w_data['Humidity (%)'] = hum\n",
    "w_data['Wind Speed (mph)'] = wind\n",
    "w_data['Pressure (in)'] = press\n",
    "w_data['Precipitation (in)'] = preci\n",
    "\n"
   ]
  },
  {
   "cell_type": "code",
   "execution_count": 881,
   "id": "c2cf7861-c65a-48ba-a57c-42d579a905fc",
   "metadata": {},
   "outputs": [],
   "source": [
    "w_data.drop('Time', axis=1, inplace=True)"
   ]
  },
  {
   "cell_type": "code",
   "execution_count": 883,
   "id": "a4304aaa-d4ad-4c2b-afcb-5524085df41f",
   "metadata": {},
   "outputs": [],
   "source": [
    "w_data['Temperature (°F)'] = temp\n",
    "w_data['Dew Point (°F)'] = dew\n",
    "w_data['Humidity (%)'] = hum\n",
    "w_data['Wind Speed (mph)'] = wind\n",
    "w_data['Pressure (in)'] = press"
   ]
  },
  {
   "cell_type": "code",
   "execution_count": 885,
   "id": "22f83969-9651-4005-a6f1-401127daa3b5",
   "metadata": {},
   "outputs": [],
   "source": [
    "def get_year(index):\n",
    "    # Determine whether it's the first year (2023) or second year (2024)\n",
    "    if index < len(w_data) // 2:\n",
    "        return 2023  # First half\n",
    "    else:\n",
    "        return 2024  # Second half\n",
    "\n",
    "# function to assign the correct year\n",
    "w_data['Year'] = [get_year(idx) for idx in range(len(w_data))]"
   ]
  },
  {
   "cell_type": "code",
   "execution_count": 887,
   "id": "a9f7a56f-67a9-4511-a286-bde99ca4ed99",
   "metadata": {},
   "outputs": [
    {
     "data": {
      "text/plain": [
       "Index(['Temperature (°F)', 'Dew Point (°F)', 'Humidity (%)',\n",
       "       'Wind Speed (mph)', 'Pressure (in)', 'Precipitation (in)', 'Month',\n",
       "       'Date', 'Year'],\n",
       "      dtype='object')"
      ]
     },
     "execution_count": 887,
     "metadata": {},
     "output_type": "execute_result"
    }
   ],
   "source": [
    "w_data.columns"
   ]
  },
  {
   "cell_type": "code",
   "execution_count": 889,
   "id": "f42498fe-1f86-4540-b399-a86e27b739b3",
   "metadata": {},
   "outputs": [],
   "source": [
    "w_data['Date'] = w_data['Year'].astype(str) + ' ' + w_data['Month'] + ' ' + w_data['Date']\n",
    "w_data['Date'] = pd.to_datetime(w_data['Date'], format='%Y %b %d')\n",
    "w_data['Date'] = w_data['Date'].dt.date\n",
    "w_data.drop('Month', axis=1, inplace=True)\n",
    "w_data.drop('Year', axis=1, inplace=True)"
   ]
  },
  {
   "cell_type": "code",
   "execution_count": 891,
   "id": "6467ec72-2980-47f2-aadc-e4da141b3c91",
   "metadata": {},
   "outputs": [],
   "source": [
    "columns = ['Temperature (°F)', 'Dew Point (°F)', 'Humidity (%)', 'Wind Speed (mph)', 'Pressure (in)']\n",
    "for col in columns:\n",
    "    w_data[col] = w_data[col].apply(lambda x: x[1])\n"
   ]
  },
  {
   "cell_type": "code",
   "execution_count": 893,
   "id": "54de4ad4-8b7a-4374-bec4-0b200900a648",
   "metadata": {},
   "outputs": [
    {
     "name": "stdout",
     "output_type": "stream",
     "text": [
      "<class 'pandas.core.frame.DataFrame'>\n",
      "RangeIndex: 380 entries, 0 to 379\n",
      "Data columns (total 7 columns):\n",
      " #   Column              Non-Null Count  Dtype \n",
      "---  ------              --------------  ----- \n",
      " 0   Temperature (°F)    380 non-null    object\n",
      " 1   Dew Point (°F)      380 non-null    object\n",
      " 2   Humidity (%)        380 non-null    object\n",
      " 3   Wind Speed (mph)    380 non-null    object\n",
      " 4   Pressure (in)       380 non-null    object\n",
      " 5   Precipitation (in)  380 non-null    object\n",
      " 6   Date                380 non-null    object\n",
      "dtypes: object(7)\n",
      "memory usage: 20.9+ KB\n"
     ]
    }
   ],
   "source": [
    "w_data.info()"
   ]
  },
  {
   "cell_type": "code",
   "execution_count": 626,
   "id": "a1c5528e-c9c4-4cde-affb-90e7c664fb1a",
   "metadata": {},
   "outputs": [],
   "source": [
    "w_data.to_csv('weather_data.csv', index=False)"
   ]
  },
  {
   "cell_type": "code",
   "execution_count": 895,
   "id": "aeac2dee-1ecd-4049-8e26-f77354d47587",
   "metadata": {},
   "outputs": [
    {
     "data": {
      "text/html": [
       "<div>\n",
       "<style scoped>\n",
       "    .dataframe tbody tr th:only-of-type {\n",
       "        vertical-align: middle;\n",
       "    }\n",
       "\n",
       "    .dataframe tbody tr th {\n",
       "        vertical-align: top;\n",
       "    }\n",
       "\n",
       "    .dataframe thead th {\n",
       "        text-align: right;\n",
       "    }\n",
       "</style>\n",
       "<table border=\"1\" class=\"dataframe\">\n",
       "  <thead>\n",
       "    <tr style=\"text-align: right;\">\n",
       "      <th></th>\n",
       "      <th>Temperature (°F)</th>\n",
       "      <th>Dew Point (°F)</th>\n",
       "      <th>Humidity (%)</th>\n",
       "      <th>Wind Speed (mph)</th>\n",
       "      <th>Pressure (in)</th>\n",
       "      <th>Precipitation (in)</th>\n",
       "      <th>Date</th>\n",
       "    </tr>\n",
       "  </thead>\n",
       "  <tbody>\n",
       "    <tr>\n",
       "      <th>0</th>\n",
       "      <td>88.8</td>\n",
       "      <td>74.5</td>\n",
       "      <td>63.4</td>\n",
       "      <td>8.9</td>\n",
       "      <td>28.8</td>\n",
       "      <td>0.00</td>\n",
       "      <td>2023-07-01</td>\n",
       "    </tr>\n",
       "    <tr>\n",
       "      <th>1</th>\n",
       "      <td>91.5</td>\n",
       "      <td>75.8</td>\n",
       "      <td>61.3</td>\n",
       "      <td>6.7</td>\n",
       "      <td>28.8</td>\n",
       "      <td>0.00</td>\n",
       "      <td>2023-07-02</td>\n",
       "    </tr>\n",
       "    <tr>\n",
       "      <th>2</th>\n",
       "      <td>91.7</td>\n",
       "      <td>77.0</td>\n",
       "      <td>63.7</td>\n",
       "      <td>11.0</td>\n",
       "      <td>28.8</td>\n",
       "      <td>0.00</td>\n",
       "      <td>2023-07-03</td>\n",
       "    </tr>\n",
       "    <tr>\n",
       "      <th>3</th>\n",
       "      <td>88.5</td>\n",
       "      <td>74.3</td>\n",
       "      <td>64.0</td>\n",
       "      <td>13.0</td>\n",
       "      <td>28.7</td>\n",
       "      <td>0.00</td>\n",
       "      <td>2023-07-04</td>\n",
       "    </tr>\n",
       "    <tr>\n",
       "      <th>4</th>\n",
       "      <td>76.0</td>\n",
       "      <td>72.9</td>\n",
       "      <td>90.2</td>\n",
       "      <td>15.0</td>\n",
       "      <td>28.8</td>\n",
       "      <td>0.00</td>\n",
       "      <td>2023-07-05</td>\n",
       "    </tr>\n",
       "    <tr>\n",
       "      <th>...</th>\n",
       "      <td>...</td>\n",
       "      <td>...</td>\n",
       "      <td>...</td>\n",
       "      <td>...</td>\n",
       "      <td>...</td>\n",
       "      <td>...</td>\n",
       "      <td>...</td>\n",
       "    </tr>\n",
       "    <tr>\n",
       "      <th>375</th>\n",
       "      <td>88.2</td>\n",
       "      <td>76.7</td>\n",
       "      <td>69.8</td>\n",
       "      <td>8.6</td>\n",
       "      <td>28.9</td>\n",
       "      <td>0.00</td>\n",
       "      <td>2024-07-10</td>\n",
       "    </tr>\n",
       "    <tr>\n",
       "      <th>376</th>\n",
       "      <td>90.7</td>\n",
       "      <td>76.8</td>\n",
       "      <td>65.7</td>\n",
       "      <td>6.7</td>\n",
       "      <td>28.7</td>\n",
       "      <td>0.00</td>\n",
       "      <td>2024-07-11</td>\n",
       "    </tr>\n",
       "    <tr>\n",
       "      <th>377</th>\n",
       "      <td>79.4</td>\n",
       "      <td>74.9</td>\n",
       "      <td>85.5</td>\n",
       "      <td>14.0</td>\n",
       "      <td>28.7</td>\n",
       "      <td>0.00</td>\n",
       "      <td>2024-07-12</td>\n",
       "    </tr>\n",
       "    <tr>\n",
       "      <th>378</th>\n",
       "      <td>85.5</td>\n",
       "      <td>71.7</td>\n",
       "      <td>65.2</td>\n",
       "      <td>5.4</td>\n",
       "      <td>28.7</td>\n",
       "      <td>0.00</td>\n",
       "      <td>2024-07-13</td>\n",
       "    </tr>\n",
       "    <tr>\n",
       "      <th>379</th>\n",
       "      <td>86.3</td>\n",
       "      <td>74.1</td>\n",
       "      <td>67.9</td>\n",
       "      <td>2.2</td>\n",
       "      <td>28.7</td>\n",
       "      <td>0.00</td>\n",
       "      <td>2024-07-14</td>\n",
       "    </tr>\n",
       "  </tbody>\n",
       "</table>\n",
       "<p>380 rows × 7 columns</p>\n",
       "</div>"
      ],
      "text/plain": [
       "    Temperature (°F) Dew Point (°F) Humidity (%) Wind Speed (mph)  \\\n",
       "0               88.8           74.5         63.4              8.9   \n",
       "1               91.5           75.8         61.3              6.7   \n",
       "2               91.7           77.0         63.7             11.0   \n",
       "3               88.5           74.3         64.0             13.0   \n",
       "4               76.0           72.9         90.2             15.0   \n",
       "..               ...            ...          ...              ...   \n",
       "375             88.2           76.7         69.8              8.6   \n",
       "376             90.7           76.8         65.7              6.7   \n",
       "377             79.4           74.9         85.5             14.0   \n",
       "378             85.5           71.7         65.2              5.4   \n",
       "379             86.3           74.1         67.9              2.2   \n",
       "\n",
       "    Pressure (in) Precipitation (in)        Date  \n",
       "0            28.8               0.00  2023-07-01  \n",
       "1            28.8               0.00  2023-07-02  \n",
       "2            28.8               0.00  2023-07-03  \n",
       "3            28.7               0.00  2023-07-04  \n",
       "4            28.8               0.00  2023-07-05  \n",
       "..            ...                ...         ...  \n",
       "375          28.9               0.00  2024-07-10  \n",
       "376          28.7               0.00  2024-07-11  \n",
       "377          28.7               0.00  2024-07-12  \n",
       "378          28.7               0.00  2024-07-13  \n",
       "379          28.7               0.00  2024-07-14  \n",
       "\n",
       "[380 rows x 7 columns]"
      ]
     },
     "execution_count": 895,
     "metadata": {},
     "output_type": "execute_result"
    }
   ],
   "source": [
    "w_data"
   ]
  },
  {
   "cell_type": "code",
   "execution_count": 897,
   "id": "8e8cb197-a406-4338-aae0-cc67a5d07f1b",
   "metadata": {},
   "outputs": [],
   "source": [
    "import json"
   ]
  },
  {
   "cell_type": "code",
   "execution_count": 899,
   "id": "aeb2da01-d5c5-49ee-904f-ab51474db20f",
   "metadata": {},
   "outputs": [],
   "source": [
    "import json\n",
    "from docx import Document\n",
    "import os"
   ]
  },
  {
   "cell_type": "code",
   "execution_count": 90,
   "id": "cb555a41-5fee-460a-bdbd-9c958f2e9808",
   "metadata": {},
   "outputs": [
    {
     "name": "stdout",
     "output_type": "stream",
     "text": [
      "ML-Proj-Dataset\\Train\\38.docx does not exist.\n",
      "ML-Proj-Dataset\\Test\\38.docx does not exist.\n",
      "Processed records from both Train and Test datasets.\n"
     ]
    }
   ],
   "source": [
    "\n",
    "# List to store data from all files\n",
    "\n",
    "# Function to process files\n",
    "def process_files(file_type):\n",
    "    all_data = []\n",
    "    for i in range(1, 73):  # Update the range if needed\n",
    "        file_path = f\"ML-Proj-Dataset\\\\{file_type}\\\\{i}.docx\"\n",
    "        if os.path.exists(file_path):\n",
    "            doc = Document(file_path)\n",
    "            data = \"\\n\".join([p.text for p in doc.paragraphs])  # Combine all paragraphs  \n",
    "            flights_data = json.loads(data)  # Parse the JSON-like text\n",
    "            all_data.extend(flights_data)  # Add to the list\n",
    "        else:\n",
    "            print(f\"{file_path} does not exist.\")\n",
    "            # Normalize the data\n",
    "    df = pd.json_normalize(all_data)\n",
    "    # Rename the columns to more suitable names\n",
    "    if (file_type != 'Test'):\n",
    "        df.columns = [\n",
    "            \"Flight Type\", \n",
    "            \"Status\", \n",
    "            \"Departure IATA Code\", \n",
    "            \"Departure ICAO Code\", \n",
    "            \"Departure Terminal\", \n",
    "            \"Departure Scheduled Time\", \n",
    "            \"Departure Estimated Time\", \n",
    "            \"Departure Actual Time\", \n",
    "            \"Departure Estimated Runway\", \n",
    "            \"Departure Actual Runway\", \n",
    "            \"Arrival IATA Code\", \n",
    "            \"Arrival ICAO Code\", \n",
    "            \"Arrival Terminal\", \n",
    "            \"Arrival Scheduled Time\", \n",
    "            \"Arrival Estimated Time\", \n",
    "            \"Airline Name\", \n",
    "            \"Airline IATA Code\", \n",
    "            \"Airline ICAO Code\", \n",
    "            \"Flight Number\", \n",
    "            \"Flight IATA Number\", \n",
    "            \"Flight ICAO Number\", \n",
    "            \"Arrival Baggage\", \n",
    "            \"Codeshare Airline Name\", \n",
    "            \"Codeshare Airline IATA Code\", \n",
    "            \"Codeshare Airline ICAO Code\", \n",
    "            \"Codeshare Flight Number\", \n",
    "            \"Codeshare Flight IATA Number\", \n",
    "            \"Codeshare Flight ICAO Number\", \n",
    "            \"Arrival Gate\", \n",
    "            \"Departure Gate\", \n",
    "            \"Arrival Actual Time\", \n",
    "            \"Arrival Estimated Runway\", \n",
    "            \"Arrival Actual Runway\"\n",
    "        ]\n",
    "    else:\n",
    "           df.columns = [\n",
    "            \"Flight Type\", \n",
    "            \"Status\", \n",
    "            \"Departure IATA Code\", \n",
    "            \"Departure ICAO Code\", \n",
    "            \"Departure Scheduled Time\", \n",
    "            \"Departure Estimated Runway\", \n",
    "            \"Departure Actual Runway\", \n",
    "            \"Arrival IATA Code\", \n",
    "            \"Arrival ICAO Code\", \n",
    "            \"Arrival Scheduled Time\", \n",
    "            \"Arrival Estimated Time\", \n",
    "            \"Airline Name\", \n",
    "            \"Airline IATA Code\", \n",
    "            \"Airline ICAO Code\", \n",
    "            \"Flight Number\", \n",
    "            \"Flight IATA Number\", \n",
    "            \"Flight ICAO Number\", \n",
    "            \"Departure Terminal\", \n",
    "            \"Arrival Terminal\", \n",
    "            \"Arrival Baggage\", \n",
    "            \"Codeshare Airline Name\", \n",
    "            \"Codeshare Airline IATA Code\", \n",
    "            \"Codeshare Airline ICAO Code\", \n",
    "            \"Codeshare Flight Number\", \n",
    "            \"Codeshare Flight IATA Number\", \n",
    "            \"Codeshare Flight ICAO Number\", \n",
    "            \"Departure Gate\", \n",
    "            \"Arrival Gate\", \n",
    "            \"Arrival Actual Time\", \n",
    "            \"Arrival Estimated Runway\", \n",
    "            \"Arrival Actual Runway\"\n",
    "        ]\n",
    "\n",
    "    return df\n",
    "\n",
    "        \n",
    "\n",
    "# Process both Train and Test files\n",
    "train = process_files(\"Train\")\n",
    "test = process_files(\"Test\")\n",
    "\n",
    "\n",
    "# Print a message indicating that all files were processed\n",
    "print(f\"Processed records from both Train and Test datasets.\")"
   ]
  },
  {
   "cell_type": "code",
   "execution_count": 91,
   "id": "07df46b0-3b2a-4801-ae0c-534edbc55bc0",
   "metadata": {},
   "outputs": [],
   "source": [
    "# test.head(10)"
   ]
  },
  {
   "cell_type": "code",
   "execution_count": 92,
   "id": "ff74959f-9dd2-432c-84c6-e68c12dde06e",
   "metadata": {},
   "outputs": [],
   "source": [
    "train.to_excel('train_flight_data.xlsx', index=False)\n",
    "test.to_excel('test_flight_data.xlsx', index=False)"
   ]
  },
  {
   "cell_type": "code",
   "execution_count": 901,
   "id": "eb4c4d4c-6e0f-4fd8-97ce-771d4e6fd2dc",
   "metadata": {},
   "outputs": [],
   "source": [
    "train = pd.read_excel(r\"C:\\Users\\mahee\\Downloads\\ML_Project\\train_flight_data.xlsx\")\n",
    "test = pd.read_excel(r\"C:\\Users\\mahee\\Downloads\\ML_Project\\test_flight_data.xlsx\")\n",
    "#w_data = pd.read_csv('weather_data.csv')"
   ]
  },
  {
   "cell_type": "code",
   "execution_count": 902,
   "id": "aecd4d8d-4f78-4cee-8080-383b8d35cc84",
   "metadata": {},
   "outputs": [
    {
     "name": "stdout",
     "output_type": "stream",
     "text": [
      "<class 'pandas.core.frame.DataFrame'>\n",
      "RangeIndex: 51572 entries, 0 to 51571\n",
      "Data columns (total 33 columns):\n",
      " #   Column                        Non-Null Count  Dtype  \n",
      "---  ------                        --------------  -----  \n",
      " 0   Flight Type                   51572 non-null  object \n",
      " 1   Status                        51572 non-null  object \n",
      " 2   Departure IATA Code           51572 non-null  object \n",
      " 3   Departure ICAO Code           51572 non-null  object \n",
      " 4   Departure Terminal            29822 non-null  object \n",
      " 5   Departure Scheduled Time      51572 non-null  object \n",
      " 6   Departure Estimated Time      44565 non-null  object \n",
      " 7   Departure Actual Time         30990 non-null  object \n",
      " 8   Departure Estimated Runway    30990 non-null  object \n",
      " 9   Departure Actual Runway       30990 non-null  object \n",
      " 10  Arrival IATA Code             51572 non-null  object \n",
      " 11  Arrival ICAO Code             51572 non-null  object \n",
      " 12  Arrival Terminal              20565 non-null  object \n",
      " 13  Arrival Scheduled Time        51572 non-null  object \n",
      " 14  Arrival Estimated Time        30208 non-null  object \n",
      " 15  Airline Name                  51572 non-null  object \n",
      " 16  Airline IATA Code             51543 non-null  object \n",
      " 17  Airline ICAO Code             51572 non-null  object \n",
      " 18  Flight Number                 51572 non-null  int64  \n",
      " 19  Flight IATA Number            51543 non-null  object \n",
      " 20  Flight ICAO Number            51572 non-null  object \n",
      " 21  Arrival Baggage               18118 non-null  object \n",
      " 22  Codeshare Airline Name        15883 non-null  object \n",
      " 23  Codeshare Airline IATA Code   15883 non-null  object \n",
      " 24  Codeshare Airline ICAO Code   15883 non-null  object \n",
      " 25  Codeshare Flight Number       15883 non-null  float64\n",
      " 26  Codeshare Flight IATA Number  15883 non-null  object \n",
      " 27  Codeshare Flight ICAO Number  15883 non-null  object \n",
      " 28  Arrival Gate                  3560 non-null   object \n",
      " 29  Departure Gate                3534 non-null   object \n",
      " 30  Arrival Actual Time           252 non-null    object \n",
      " 31  Arrival Estimated Runway      252 non-null    object \n",
      " 32  Arrival Actual Runway         252 non-null    object \n",
      "dtypes: float64(1), int64(1), object(31)\n",
      "memory usage: 13.0+ MB\n"
     ]
    }
   ],
   "source": [
    "train.info()"
   ]
  },
  {
   "cell_type": "code",
   "execution_count": 903,
   "id": "9521a214-ddd4-4d2a-aa56-3538ae3c1055",
   "metadata": {},
   "outputs": [
    {
     "name": "stdout",
     "output_type": "stream",
     "text": [
      "<class 'pandas.core.frame.DataFrame'>\n",
      "RangeIndex: 14910 entries, 0 to 14909\n",
      "Data columns (total 31 columns):\n",
      " #   Column                        Non-Null Count  Dtype  \n",
      "---  ------                        --------------  -----  \n",
      " 0   Flight Type                   14910 non-null  object \n",
      " 1   Status                        14910 non-null  object \n",
      " 2   Departure IATA Code           14910 non-null  object \n",
      " 3   Departure ICAO Code           14910 non-null  object \n",
      " 4   Departure Scheduled Time      14910 non-null  object \n",
      " 5   Departure Estimated Runway    8695 non-null   object \n",
      " 6   Departure Actual Runway       8695 non-null   object \n",
      " 7   Arrival IATA Code             14910 non-null  object \n",
      " 8   Arrival ICAO Code             14910 non-null  object \n",
      " 9   Arrival Scheduled Time        14910 non-null  object \n",
      " 10  Arrival Estimated Time        8395 non-null   object \n",
      " 11  Airline Name                  14910 non-null  object \n",
      " 12  Airline IATA Code             14904 non-null  object \n",
      " 13  Airline ICAO Code             14909 non-null  object \n",
      " 14  Flight Number                 14910 non-null  int64  \n",
      " 15  Flight IATA Number            14904 non-null  object \n",
      " 16  Flight ICAO Number            14909 non-null  object \n",
      " 17  Departure Terminal            8434 non-null   object \n",
      " 18  Arrival Terminal              6091 non-null   object \n",
      " 19  Arrival Baggage               5281 non-null   object \n",
      " 20  Codeshare Airline Name        4663 non-null   object \n",
      " 21  Codeshare Airline IATA Code   4663 non-null   object \n",
      " 22  Codeshare Airline ICAO Code   4663 non-null   object \n",
      " 23  Codeshare Flight Number       4663 non-null   float64\n",
      " 24  Codeshare Flight IATA Number  4663 non-null   object \n",
      " 25  Codeshare Flight ICAO Number  4663 non-null   object \n",
      " 26  Departure Gate                1064 non-null   object \n",
      " 27  Arrival Gate                  1113 non-null   object \n",
      " 28  Arrival Actual Time           75 non-null     object \n",
      " 29  Arrival Estimated Runway      75 non-null     object \n",
      " 30  Arrival Actual Runway         75 non-null     object \n",
      "dtypes: float64(1), int64(1), object(29)\n",
      "memory usage: 3.5+ MB\n"
     ]
    }
   ],
   "source": [
    "test.info()"
   ]
  },
  {
   "cell_type": "code",
   "execution_count": 904,
   "id": "34891f40-820d-4129-bd1f-b65f2a3f4d1c",
   "metadata": {},
   "outputs": [],
   "source": [
    "# test_binary.rename(columns={'Type':'Flight Type','Scheduled Time': 'Departure Scheduled Time'}, inplace=True)"
   ]
  },
  {
   "cell_type": "code",
   "execution_count": 905,
   "id": "d0c8fec4-6c31-44a0-9f66-5bed5875ad78",
   "metadata": {},
   "outputs": [],
   "source": [
    "# test_binary['Departure Scheduled Time'] = pd.to_datetime(test_binary['Departure Scheduled Time'], errors='coerce')\n",
    "# test_binary['Departure Scheduled Date'] = test_binary['Departure Scheduled Time'].dt.date\n",
    "# test_binary['Departure Scheduled Time'] = test_binary['Departure Scheduled Time'].apply(lambda x: x.timestamp())"
   ]
  },
  {
   "cell_type": "markdown",
   "id": "060989ef-02c7-455f-89a5-f97b0a92be8e",
   "metadata": {},
   "source": [
    "##### Make them consistent"
   ]
  },
  {
   "cell_type": "code",
   "execution_count": 907,
   "id": "0b01a1ae-0578-4e73-a958-32f92f5fee41",
   "metadata": {
    "scrolled": true
   },
   "outputs": [
    {
     "name": "stdout",
     "output_type": "stream",
     "text": [
      "Departure Estimated Time\n",
      "Departure Actual Time\n"
     ]
    }
   ],
   "source": [
    "train_cols = train.columns\n",
    "test_cols = test.columns\n",
    "for i in train_cols:\n",
    "    if i not in test_cols:\n",
    "        print(i)"
   ]
  },
  {
   "cell_type": "code",
   "execution_count": 908,
   "id": "cfa0cbc1-3a6a-4bb1-a7fc-0d106f385be7",
   "metadata": {},
   "outputs": [],
   "source": [
    "train.drop(columns=['Departure Estimated Time', 'Departure Actual Time'], inplace = True)"
   ]
  },
  {
   "cell_type": "code",
   "execution_count": 909,
   "id": "ed2a0cd5-eb5f-4095-9434-f2fdd4ae687d",
   "metadata": {},
   "outputs": [
    {
     "data": {
      "text/plain": [
       "Flight Type                         0\n",
       "Status                              0\n",
       "Departure IATA Code                 0\n",
       "Departure ICAO Code                 0\n",
       "Departure Terminal              21750\n",
       "Departure Scheduled Time            0\n",
       "Departure Estimated Runway      20582\n",
       "Departure Actual Runway         20582\n",
       "Arrival IATA Code                   0\n",
       "Arrival ICAO Code                   0\n",
       "Arrival Terminal                31007\n",
       "Arrival Scheduled Time              0\n",
       "Arrival Estimated Time          21364\n",
       "Airline Name                        0\n",
       "Airline IATA Code                  29\n",
       "Airline ICAO Code                   0\n",
       "Flight Number                       0\n",
       "Flight IATA Number                 29\n",
       "Flight ICAO Number                  0\n",
       "Arrival Baggage                 33454\n",
       "Codeshare Airline Name          35689\n",
       "Codeshare Airline IATA Code     35689\n",
       "Codeshare Airline ICAO Code     35689\n",
       "Codeshare Flight Number         35689\n",
       "Codeshare Flight IATA Number    35689\n",
       "Codeshare Flight ICAO Number    35689\n",
       "Arrival Gate                    48012\n",
       "Departure Gate                  48038\n",
       "Arrival Actual Time             51320\n",
       "Arrival Estimated Runway        51320\n",
       "Arrival Actual Runway           51320\n",
       "dtype: int64"
      ]
     },
     "execution_count": 909,
     "metadata": {},
     "output_type": "execute_result"
    }
   ],
   "source": [
    "train.isnull().sum()\n"
   ]
  },
  {
   "cell_type": "code",
   "execution_count": 910,
   "id": "c715b6ab-d3d7-4eaf-93e9-0909050270af",
   "metadata": {},
   "outputs": [
    {
     "data": {
      "text/plain": [
       "Flight Type                         0\n",
       "Status                              0\n",
       "Departure IATA Code                 0\n",
       "Departure ICAO Code                 0\n",
       "Departure Scheduled Time            0\n",
       "Departure Estimated Runway       6215\n",
       "Departure Actual Runway          6215\n",
       "Arrival IATA Code                   0\n",
       "Arrival ICAO Code                   0\n",
       "Arrival Scheduled Time              0\n",
       "Arrival Estimated Time           6515\n",
       "Airline Name                        0\n",
       "Airline IATA Code                   6\n",
       "Airline ICAO Code                   1\n",
       "Flight Number                       0\n",
       "Flight IATA Number                  6\n",
       "Flight ICAO Number                  1\n",
       "Departure Terminal               6476\n",
       "Arrival Terminal                 8819\n",
       "Arrival Baggage                  9629\n",
       "Codeshare Airline Name          10247\n",
       "Codeshare Airline IATA Code     10247\n",
       "Codeshare Airline ICAO Code     10247\n",
       "Codeshare Flight Number         10247\n",
       "Codeshare Flight IATA Number    10247\n",
       "Codeshare Flight ICAO Number    10247\n",
       "Departure Gate                  13846\n",
       "Arrival Gate                    13797\n",
       "Arrival Actual Time             14835\n",
       "Arrival Estimated Runway        14835\n",
       "Arrival Actual Runway           14835\n",
       "dtype: int64"
      ]
     },
     "execution_count": 910,
     "metadata": {},
     "output_type": "execute_result"
    }
   ],
   "source": [
    "test.isnull().sum()"
   ]
  },
  {
   "cell_type": "code",
   "execution_count": 911,
   "id": "0617cbf7-d988-40c6-a99b-21d8f734385d",
   "metadata": {},
   "outputs": [
    {
     "name": "stdout",
     "output_type": "stream",
     "text": [
      "<class 'pandas.core.frame.DataFrame'>\n",
      "RangeIndex: 14910 entries, 0 to 14909\n",
      "Data columns (total 31 columns):\n",
      " #   Column                        Non-Null Count  Dtype  \n",
      "---  ------                        --------------  -----  \n",
      " 0   Flight Type                   14910 non-null  object \n",
      " 1   Status                        14910 non-null  object \n",
      " 2   Departure IATA Code           14910 non-null  object \n",
      " 3   Departure ICAO Code           14910 non-null  object \n",
      " 4   Departure Scheduled Time      14910 non-null  object \n",
      " 5   Departure Estimated Runway    8695 non-null   object \n",
      " 6   Departure Actual Runway       8695 non-null   object \n",
      " 7   Arrival IATA Code             14910 non-null  object \n",
      " 8   Arrival ICAO Code             14910 non-null  object \n",
      " 9   Arrival Scheduled Time        14910 non-null  object \n",
      " 10  Arrival Estimated Time        8395 non-null   object \n",
      " 11  Airline Name                  14910 non-null  object \n",
      " 12  Airline IATA Code             14904 non-null  object \n",
      " 13  Airline ICAO Code             14909 non-null  object \n",
      " 14  Flight Number                 14910 non-null  int64  \n",
      " 15  Flight IATA Number            14904 non-null  object \n",
      " 16  Flight ICAO Number            14909 non-null  object \n",
      " 17  Departure Terminal            8434 non-null   object \n",
      " 18  Arrival Terminal              6091 non-null   object \n",
      " 19  Arrival Baggage               5281 non-null   object \n",
      " 20  Codeshare Airline Name        4663 non-null   object \n",
      " 21  Codeshare Airline IATA Code   4663 non-null   object \n",
      " 22  Codeshare Airline ICAO Code   4663 non-null   object \n",
      " 23  Codeshare Flight Number       4663 non-null   float64\n",
      " 24  Codeshare Flight IATA Number  4663 non-null   object \n",
      " 25  Codeshare Flight ICAO Number  4663 non-null   object \n",
      " 26  Departure Gate                1064 non-null   object \n",
      " 27  Arrival Gate                  1113 non-null   object \n",
      " 28  Arrival Actual Time           75 non-null     object \n",
      " 29  Arrival Estimated Runway      75 non-null     object \n",
      " 30  Arrival Actual Runway         75 non-null     object \n",
      "dtypes: float64(1), int64(1), object(29)\n",
      "memory usage: 3.5+ MB\n"
     ]
    }
   ],
   "source": [
    "test.info()"
   ]
  },
  {
   "cell_type": "code",
   "execution_count": 912,
   "id": "f56e1542-6e55-409c-8e61-71db0d1fa093",
   "metadata": {},
   "outputs": [],
   "source": [
    "drop = ['Departure Terminal', 'Departure Estimated Runway', 'Arrival Terminal', 'Arrival Estimated Time', 'Arrival Baggage', 'Codeshare Airline Name', 'Codeshare Airline IATA Code', 'Codeshare Airline ICAO Code', 'Codeshare Flight Number', 'Codeshare Flight IATA Number', 'Codeshare Flight ICAO Number', 'Arrival Gate', 'Departure Gate', 'Arrival Actual Time', 'Arrival Estimated Runway', 'Arrival Actual Runway']\n",
    "train.drop(columns = drop, inplace = True)\n",
    "test.drop(columns = drop, inplace = True)"
   ]
  },
  {
   "cell_type": "code",
   "execution_count": 913,
   "id": "ce2ba34e-4d1b-4dab-b1a0-f6410f3ccbfa",
   "metadata": {},
   "outputs": [],
   "source": [
    "#train.dropna(subset=['Departure Actual Time'], inplace = True)"
   ]
  },
  {
   "cell_type": "code",
   "execution_count": 914,
   "id": "b432256e-5183-48fa-819b-179bed399778",
   "metadata": {},
   "outputs": [
    {
     "name": "stdout",
     "output_type": "stream",
     "text": [
      "<class 'pandas.core.frame.DataFrame'>\n",
      "RangeIndex: 51572 entries, 0 to 51571\n",
      "Data columns (total 15 columns):\n",
      " #   Column                    Non-Null Count  Dtype \n",
      "---  ------                    --------------  ----- \n",
      " 0   Flight Type               51572 non-null  object\n",
      " 1   Status                    51572 non-null  object\n",
      " 2   Departure IATA Code       51572 non-null  object\n",
      " 3   Departure ICAO Code       51572 non-null  object\n",
      " 4   Departure Scheduled Time  51572 non-null  object\n",
      " 5   Departure Actual Runway   30990 non-null  object\n",
      " 6   Arrival IATA Code         51572 non-null  object\n",
      " 7   Arrival ICAO Code         51572 non-null  object\n",
      " 8   Arrival Scheduled Time    51572 non-null  object\n",
      " 9   Airline Name              51572 non-null  object\n",
      " 10  Airline IATA Code         51543 non-null  object\n",
      " 11  Airline ICAO Code         51572 non-null  object\n",
      " 12  Flight Number             51572 non-null  int64 \n",
      " 13  Flight IATA Number        51543 non-null  object\n",
      " 14  Flight ICAO Number        51572 non-null  object\n",
      "dtypes: int64(1), object(14)\n",
      "memory usage: 5.9+ MB\n"
     ]
    }
   ],
   "source": [
    "train.info()"
   ]
  },
  {
   "cell_type": "code",
   "execution_count": 915,
   "id": "b4aec45a-f359-4fdb-b944-e8771dcc9006",
   "metadata": {},
   "outputs": [
    {
     "name": "stdout",
     "output_type": "stream",
     "text": [
      "<class 'pandas.core.frame.DataFrame'>\n",
      "RangeIndex: 14910 entries, 0 to 14909\n",
      "Data columns (total 15 columns):\n",
      " #   Column                    Non-Null Count  Dtype \n",
      "---  ------                    --------------  ----- \n",
      " 0   Flight Type               14910 non-null  object\n",
      " 1   Status                    14910 non-null  object\n",
      " 2   Departure IATA Code       14910 non-null  object\n",
      " 3   Departure ICAO Code       14910 non-null  object\n",
      " 4   Departure Scheduled Time  14910 non-null  object\n",
      " 5   Departure Actual Runway   8695 non-null   object\n",
      " 6   Arrival IATA Code         14910 non-null  object\n",
      " 7   Arrival ICAO Code         14910 non-null  object\n",
      " 8   Arrival Scheduled Time    14910 non-null  object\n",
      " 9   Airline Name              14910 non-null  object\n",
      " 10  Airline IATA Code         14904 non-null  object\n",
      " 11  Airline ICAO Code         14909 non-null  object\n",
      " 12  Flight Number             14910 non-null  int64 \n",
      " 13  Flight IATA Number        14904 non-null  object\n",
      " 14  Flight ICAO Number        14909 non-null  object\n",
      "dtypes: int64(1), object(14)\n",
      "memory usage: 1.7+ MB\n"
     ]
    }
   ],
   "source": [
    "test.info()"
   ]
  },
  {
   "cell_type": "code",
   "execution_count": 916,
   "id": "3cd49288-0b13-445b-b7be-ad43ef9d5947",
   "metadata": {},
   "outputs": [],
   "source": [
    "def convert_to_datetime(data, file_type):\n",
    "\n",
    "    # if file_type != 'Test':\n",
    "    #      data['Departure Actual Time'] = pd.to_datetime(data['Departure Actual Time'], errors='coerce')\n",
    "         #data['Departure Estimated Time'] = pd.to_datetime(data['Departure Estimated Time'], errors='coerce')\n",
    "        \n",
    "    data['Departure Scheduled Time'] = pd.to_datetime(data['Departure Scheduled Time'], errors='coerce')\n",
    "    data['Arrival Scheduled Time'] = pd.to_datetime(data['Arrival Scheduled Time'], errors='coerce')\n",
    "    #data['Arrival Actual Time'] = pd.to_datetime(data['Arrival Actual Time'], errors='coerce')\n",
    "    #data['Arrival Estimated Time'] = pd.to_datetime(data['Arrival Estimated Time'], errors='coerce')\n",
    "    #data['Departure Estimated Runway'] = pd.to_datetime(data['Departure Estimated Runway'], errors='coerce')\n",
    "    data['Departure Actual Runway'] = pd.to_datetime(data['Departure Actual Runway'], errors='coerce')\n",
    "    #data['Arrival Estimated Runway'] = pd.to_datetime(data['Arrival Estimated Runway'], errors='coerce')\n",
    "    #data['Arrival Actual Runway'] = pd.to_datetime(data['Arrival Actual Runway'], errors='coerce')\n",
    "    \n",
    "    return data\n",
    "\n",
    "train = convert_to_datetime(train, file_type = 'Train')\n",
    "test = convert_to_datetime(test, file_type = 'Test') "
   ]
  },
  {
   "cell_type": "code",
   "execution_count": 917,
   "id": "d02c6caf-117e-4bc4-9a17-7b6872778f13",
   "metadata": {},
   "outputs": [
    {
     "name": "stdout",
     "output_type": "stream",
     "text": [
      "<class 'pandas.core.frame.DataFrame'>\n",
      "RangeIndex: 51572 entries, 0 to 51571\n",
      "Data columns (total 15 columns):\n",
      " #   Column                    Non-Null Count  Dtype         \n",
      "---  ------                    --------------  -----         \n",
      " 0   Flight Type               51572 non-null  object        \n",
      " 1   Status                    51572 non-null  object        \n",
      " 2   Departure IATA Code       51572 non-null  object        \n",
      " 3   Departure ICAO Code       51572 non-null  object        \n",
      " 4   Departure Scheduled Time  51572 non-null  datetime64[ns]\n",
      " 5   Departure Actual Runway   30990 non-null  datetime64[ns]\n",
      " 6   Arrival IATA Code         51572 non-null  object        \n",
      " 7   Arrival ICAO Code         51572 non-null  object        \n",
      " 8   Arrival Scheduled Time    51572 non-null  datetime64[ns]\n",
      " 9   Airline Name              51572 non-null  object        \n",
      " 10  Airline IATA Code         51543 non-null  object        \n",
      " 11  Airline ICAO Code         51572 non-null  object        \n",
      " 12  Flight Number             51572 non-null  int64         \n",
      " 13  Flight IATA Number        51543 non-null  object        \n",
      " 14  Flight ICAO Number        51572 non-null  object        \n",
      "dtypes: datetime64[ns](3), int64(1), object(11)\n",
      "memory usage: 5.9+ MB\n"
     ]
    }
   ],
   "source": [
    "train.info()"
   ]
  },
  {
   "cell_type": "code",
   "execution_count": 918,
   "id": "04ce23e5-551e-45ad-a8ae-fb3404e4a67d",
   "metadata": {},
   "outputs": [
    {
     "name": "stdout",
     "output_type": "stream",
     "text": [
      "<class 'pandas.core.frame.DataFrame'>\n",
      "RangeIndex: 14910 entries, 0 to 14909\n",
      "Data columns (total 15 columns):\n",
      " #   Column                    Non-Null Count  Dtype         \n",
      "---  ------                    --------------  -----         \n",
      " 0   Flight Type               14910 non-null  object        \n",
      " 1   Status                    14910 non-null  object        \n",
      " 2   Departure IATA Code       14910 non-null  object        \n",
      " 3   Departure ICAO Code       14910 non-null  object        \n",
      " 4   Departure Scheduled Time  14910 non-null  datetime64[ns]\n",
      " 5   Departure Actual Runway   8695 non-null   datetime64[ns]\n",
      " 6   Arrival IATA Code         14910 non-null  object        \n",
      " 7   Arrival ICAO Code         14910 non-null  object        \n",
      " 8   Arrival Scheduled Time    14910 non-null  datetime64[ns]\n",
      " 9   Airline Name              14910 non-null  object        \n",
      " 10  Airline IATA Code         14904 non-null  object        \n",
      " 11  Airline ICAO Code         14909 non-null  object        \n",
      " 12  Flight Number             14910 non-null  int64         \n",
      " 13  Flight IATA Number        14904 non-null  object        \n",
      " 14  Flight ICAO Number        14909 non-null  object        \n",
      "dtypes: datetime64[ns](3), int64(1), object(11)\n",
      "memory usage: 1.7+ MB\n"
     ]
    }
   ],
   "source": [
    "test.info()"
   ]
  },
  {
   "cell_type": "markdown",
   "id": "504f4585-b5a0-464b-b6e5-c95bce3936f5",
   "metadata": {},
   "source": [
    "## Handle Missing Values"
   ]
  },
  {
   "cell_type": "code",
   "execution_count": 920,
   "id": "e2e40a96-45fc-44df-9d11-ed446cb7d66f",
   "metadata": {},
   "outputs": [],
   "source": [
    "train[\"Delay\"] = (train[\"Departure Actual Runway\"] - train[\"Departure Scheduled Time\"]).dt.total_seconds()\n",
    "test[\"Delay\"] = (test['Departure Actual Runway'] - test[\"Departure Scheduled Time\"]).dt.total_seconds()"
   ]
  },
  {
   "cell_type": "code",
   "execution_count": 921,
   "id": "7f5371a5-cef3-4748-9f08-301b91df14c2",
   "metadata": {},
   "outputs": [],
   "source": [
    "#train.info()"
   ]
  },
  {
   "cell_type": "code",
   "execution_count": 922,
   "id": "3b0e3869-b10a-4b5b-a827-303f823ddf4f",
   "metadata": {},
   "outputs": [],
   "source": [
    "def fill_target_cols(data, file_type):\n",
    "    \n",
    "    average_delay = data[\"Delay\"].median()\n",
    "\n",
    "    # if file_type != 'Test':\n",
    "    \n",
    "    #     data[\"Departure Actual Runway\"] = data[\"Departure Actual Runway\"].fillna(data[\"Departure Scheduled Time\"] + pd.to_timedelta(average_delay, unit='s'))\n",
    "    #     #data[\"Departure Estimated Time\"] = data[\"Departure Estimated Time\"].fillna(data[\"Departure Scheduled Time\"] + pd.to_timedelta(average_delay, unit='s') )\n",
    "        \n",
    "    #     #data[\"Departure Actual Runway\"] = data[\"Departure Actual Runway\"].fillna(data[\"Departure Scheduled Time\"])\n",
    "    #     data[\"Delay\"] = (data[\"Departure Actual Runway\"] - data[\"Departure Scheduled Time\"]).dt.total_seconds()\n",
    "\n",
    "    data[\"Departure Actual Runway\"] = data[\"Departure Actual Runway\"].fillna(data[\"Departure Scheduled Time\"] + pd.to_timedelta(average_delay, unit='s'))\n",
    "    #data[\"Departure Actual Runway\"] = data[\"Departure Actual Runway\"].fillna(data[\"Departure Scheduled Time\"])\n",
    "    \n",
    "    data[\"Delay\"] = (data[\"Departure Actual Runway\"] - data[\"Departure Scheduled Time\"]).dt.total_seconds()\n",
    "\n",
    "    return data\n",
    "\n",
    "# Apply the function to train and test datasets\n",
    "train = fill_target_cols(train, 'Train')\n",
    "test = fill_target_cols(test, 'Test')\n",
    "\n"
   ]
  },
  {
   "cell_type": "code",
   "execution_count": 923,
   "id": "16207914-4529-430c-9254-238e27e600a9",
   "metadata": {},
   "outputs": [],
   "source": [
    "#train[\"Delay\"] = (train[\"Departure Actual Runway\"] - train[\"Departure Scheduled Time\"]).dt.total_seconds()\n",
    "#test[\"Delay\"] = (test['Departure Actual Runway'] - test[\"Departure Scheduled Time\"]).dt.total_seconds()"
   ]
  },
  {
   "cell_type": "code",
   "execution_count": 924,
   "id": "b97d7328-2f40-472e-abdd-0e513cbc1449",
   "metadata": {},
   "outputs": [],
   "source": [
    "#test.info()"
   ]
  },
  {
   "cell_type": "code",
   "execution_count": 925,
   "id": "088a07b1-742d-45e2-a90f-7f26ca774af5",
   "metadata": {},
   "outputs": [
    {
     "name": "stdout",
     "output_type": "stream",
     "text": [
      "Index(['Airline IATA Code', 'Flight IATA Number'], dtype='object')\n",
      "Index(['Airline IATA Code', 'Airline ICAO Code', 'Flight IATA Number',\n",
      "       'Flight ICAO Number'],\n",
      "      dtype='object')\n"
     ]
    }
   ],
   "source": [
    "def fill_missing_values(data):\n",
    "    cols = data.columns[data.isnull().any()]\n",
    "    print(cols)\n",
    "\n",
    "    for c in cols:\n",
    "            \n",
    "        mode_value = data[c].mode()[0]\n",
    "        data[c] = data[c].fillna(mode_value)\n",
    "        \n",
    "    return data\n",
    "\n",
    "# Apply the function to both train and test data\n",
    "train = fill_missing_values(train)\n",
    "test = fill_missing_values(test)\n"
   ]
  },
  {
   "cell_type": "code",
   "execution_count": 926,
   "id": "e83d46d3-edff-42ee-86d7-7e9a800a597c",
   "metadata": {},
   "outputs": [],
   "source": [
    "#train.info()"
   ]
  },
  {
   "cell_type": "code",
   "execution_count": 927,
   "id": "7abd8570-f843-4b43-a7c2-bbc315bc8873",
   "metadata": {},
   "outputs": [],
   "source": [
    "# train[\"Delay\"] = (train[\"Departure Actual Time\"] - train[\"Departure Scheduled Time\"]).dt.total_seconds()\n",
    "# test[\"Delay\"] = (test['Departure Actual Runway'] - test[\"Departure Scheduled Time\"]).dt.total_seconds()"
   ]
  },
  {
   "cell_type": "code",
   "execution_count": 928,
   "id": "0477bb2d-b7a3-489f-a356-4c713024be69",
   "metadata": {},
   "outputs": [
    {
     "name": "stdout",
     "output_type": "stream",
     "text": [
      "<class 'pandas.core.frame.DataFrame'>\n",
      "RangeIndex: 14910 entries, 0 to 14909\n",
      "Data columns (total 16 columns):\n",
      " #   Column                    Non-Null Count  Dtype         \n",
      "---  ------                    --------------  -----         \n",
      " 0   Flight Type               14910 non-null  object        \n",
      " 1   Status                    14910 non-null  object        \n",
      " 2   Departure IATA Code       14910 non-null  object        \n",
      " 3   Departure ICAO Code       14910 non-null  object        \n",
      " 4   Departure Scheduled Time  14910 non-null  datetime64[ns]\n",
      " 5   Departure Actual Runway   14910 non-null  datetime64[ns]\n",
      " 6   Arrival IATA Code         14910 non-null  object        \n",
      " 7   Arrival ICAO Code         14910 non-null  object        \n",
      " 8   Arrival Scheduled Time    14910 non-null  datetime64[ns]\n",
      " 9   Airline Name              14910 non-null  object        \n",
      " 10  Airline IATA Code         14910 non-null  object        \n",
      " 11  Airline ICAO Code         14910 non-null  object        \n",
      " 12  Flight Number             14910 non-null  int64         \n",
      " 13  Flight IATA Number        14910 non-null  object        \n",
      " 14  Flight ICAO Number        14910 non-null  object        \n",
      " 15  Delay                     14910 non-null  float64       \n",
      "dtypes: datetime64[ns](3), float64(1), int64(1), object(11)\n",
      "memory usage: 1.8+ MB\n"
     ]
    }
   ],
   "source": [
    "test.info()"
   ]
  },
  {
   "cell_type": "code",
   "execution_count": 929,
   "id": "43f7049f-0c9c-41d6-80e3-b1e3ab653bf3",
   "metadata": {},
   "outputs": [
    {
     "name": "stdout",
     "output_type": "stream",
     "text": [
      "<class 'pandas.core.frame.DataFrame'>\n",
      "RangeIndex: 51572 entries, 0 to 51571\n",
      "Data columns (total 16 columns):\n",
      " #   Column                    Non-Null Count  Dtype         \n",
      "---  ------                    --------------  -----         \n",
      " 0   Flight Type               51572 non-null  object        \n",
      " 1   Status                    51572 non-null  object        \n",
      " 2   Departure IATA Code       51572 non-null  object        \n",
      " 3   Departure ICAO Code       51572 non-null  object        \n",
      " 4   Departure Scheduled Time  51572 non-null  datetime64[ns]\n",
      " 5   Departure Actual Runway   51572 non-null  datetime64[ns]\n",
      " 6   Arrival IATA Code         51572 non-null  object        \n",
      " 7   Arrival ICAO Code         51572 non-null  object        \n",
      " 8   Arrival Scheduled Time    51572 non-null  datetime64[ns]\n",
      " 9   Airline Name              51572 non-null  object        \n",
      " 10  Airline IATA Code         51572 non-null  object        \n",
      " 11  Airline ICAO Code         51572 non-null  object        \n",
      " 12  Flight Number             51572 non-null  int64         \n",
      " 13  Flight IATA Number        51572 non-null  object        \n",
      " 14  Flight ICAO Number        51572 non-null  object        \n",
      " 15  Delay                     51572 non-null  float64       \n",
      "dtypes: datetime64[ns](3), float64(1), int64(1), object(11)\n",
      "memory usage: 6.3+ MB\n"
     ]
    }
   ],
   "source": [
    "train.info()"
   ]
  },
  {
   "cell_type": "markdown",
   "id": "638e4f2b-129c-402d-b38a-a1eeec46e107",
   "metadata": {},
   "source": [
    "## Data Integration"
   ]
  },
  {
   "cell_type": "code",
   "execution_count": 931,
   "id": "5b97f760-64c4-481b-bd9f-78000b12ac6e",
   "metadata": {},
   "outputs": [
    {
     "data": {
      "text/plain": [
       "Index(['Flight Type', 'Status', 'Departure IATA Code', 'Departure ICAO Code',\n",
       "       'Departure Scheduled Time', 'Departure Actual Runway',\n",
       "       'Arrival IATA Code', 'Arrival ICAO Code', 'Arrival Scheduled Time',\n",
       "       'Airline Name', 'Airline IATA Code', 'Airline ICAO Code',\n",
       "       'Flight Number', 'Flight IATA Number', 'Flight ICAO Number', 'Delay'],\n",
       "      dtype='object')"
      ]
     },
     "execution_count": 931,
     "metadata": {},
     "output_type": "execute_result"
    }
   ],
   "source": [
    "train.columns"
   ]
  },
  {
   "cell_type": "markdown",
   "id": "625962d1-d1b3-46cf-9648-17728cb8c0bd",
   "metadata": {},
   "source": [
    "## Data Cleaning and Transformation"
   ]
  },
  {
   "cell_type": "code",
   "execution_count": 933,
   "id": "4af08c58-34ec-42ac-93bd-cabff1ce3e6a",
   "metadata": {},
   "outputs": [
    {
     "data": {
      "text/plain": [
       "Index(['Flight Type', 'Status', 'Departure IATA Code', 'Departure ICAO Code',\n",
       "       'Departure Scheduled Time', 'Departure Actual Runway',\n",
       "       'Arrival IATA Code', 'Arrival ICAO Code', 'Arrival Scheduled Time',\n",
       "       'Airline Name', 'Airline IATA Code', 'Airline ICAO Code',\n",
       "       'Flight Number', 'Flight IATA Number', 'Flight ICAO Number', 'Delay'],\n",
       "      dtype='object')"
      ]
     },
     "execution_count": 933,
     "metadata": {},
     "output_type": "execute_result"
    }
   ],
   "source": [
    "test.columns"
   ]
  },
  {
   "cell_type": "markdown",
   "id": "aab71587-3906-48ff-99df-fcc62bb49d6d",
   "metadata": {},
   "source": [
    "## Handle Missing Values"
   ]
  },
  {
   "cell_type": "code",
   "execution_count": 935,
   "id": "53c85ec6-0bcc-4315-991b-2312b27817c9",
   "metadata": {},
   "outputs": [
    {
     "name": "stdout",
     "output_type": "stream",
     "text": [
      "<class 'pandas.core.frame.DataFrame'>\n",
      "RangeIndex: 51572 entries, 0 to 51571\n",
      "Data columns (total 16 columns):\n",
      " #   Column                    Non-Null Count  Dtype         \n",
      "---  ------                    --------------  -----         \n",
      " 0   Flight Type               51572 non-null  object        \n",
      " 1   Status                    51572 non-null  object        \n",
      " 2   Departure IATA Code       51572 non-null  object        \n",
      " 3   Departure ICAO Code       51572 non-null  object        \n",
      " 4   Departure Scheduled Time  51572 non-null  datetime64[ns]\n",
      " 5   Departure Actual Runway   51572 non-null  datetime64[ns]\n",
      " 6   Arrival IATA Code         51572 non-null  object        \n",
      " 7   Arrival ICAO Code         51572 non-null  object        \n",
      " 8   Arrival Scheduled Time    51572 non-null  datetime64[ns]\n",
      " 9   Airline Name              51572 non-null  object        \n",
      " 10  Airline IATA Code         51572 non-null  object        \n",
      " 11  Airline ICAO Code         51572 non-null  object        \n",
      " 12  Flight Number             51572 non-null  int64         \n",
      " 13  Flight IATA Number        51572 non-null  object        \n",
      " 14  Flight ICAO Number        51572 non-null  object        \n",
      " 15  Delay                     51572 non-null  float64       \n",
      "dtypes: datetime64[ns](3), float64(1), int64(1), object(11)\n",
      "memory usage: 6.3+ MB\n"
     ]
    }
   ],
   "source": [
    "train.info()"
   ]
  },
  {
   "cell_type": "code",
   "execution_count": 936,
   "id": "8ea442ca-f9d5-41de-91a5-0c957db4f6df",
   "metadata": {},
   "outputs": [],
   "source": [
    "def process_datetime_columns(data, file_type):\n",
    "\n",
    "    #if file_type != 'Test':\n",
    "        # data['Departure Actual Day'] = data['Departure Actual Time'].dt.day_name()\n",
    "        # data['Departure Actual Date'] = data['Departure Actual Time'].dt.date\n",
    "        # data['Departure Actual Hour'] = data['Departure Actual Time'].dt.hour\n",
    "        # data.drop(columns = ['Departure Actual Time'], inplace = True)\n",
    "\n",
    "        #data['Departure Estimated Date'] = data['Departure Estimated Time'].dt.date\n",
    "        #data['Departure Estimated Time'] = data['Departure Estimated Time'].dt.time\n",
    "\n",
    "    # Processing 'Departure Scheduled Time'\n",
    "    data['Departure Scheduled Day'] = data['Departure Scheduled Time'].dt.day_name()\n",
    "    data['Departure Scheduled Date'] = data['Departure Scheduled Time'].dt.date\n",
    "    data['Departure Scheduled Hour'] = data['Departure Scheduled Time'].dt.hour\n",
    "    data['Departure Scheduled Year'] = data['Departure Scheduled Time'].dt.year\n",
    "    data.drop(columns = ['Departure Scheduled Time'], inplace = True)\n",
    "\n",
    "\n",
    "    data['Departure Actual Runway Date'] = data['Departure Actual Runway'].dt.date\n",
    "    data['Departure Actual Runway Day'] = data['Departure Actual Runway'].dt.day_name()\n",
    "    data['Departure Actual Runway Hour'] = data['Departure Actual Runway'].dt.hour\n",
    "    data['Departure Actual Runway Year'] = data['Departure Actual Runway'].dt.year\n",
    "    \n",
    "    data.drop(columns = ['Departure Actual Runway'], inplace = True)\n",
    "    \n",
    "\n",
    "    \n",
    "    return data\n",
    "\n",
    "train = process_datetime_columns(train, 'Train')\n",
    "test = process_datetime_columns(test, 'Test')\n"
   ]
  },
  {
   "cell_type": "code",
   "execution_count": 937,
   "id": "9c650813-60e6-4ea7-b889-7ca6122959b4",
   "metadata": {},
   "outputs": [],
   "source": [
    "# def process_datetime_columns(data, file_type):\n",
    "\n",
    "#     datetime_columns = ['Departure Scheduled Time','Arrival Scheduled Time','Departure Actual Runway']\n",
    "        \n",
    "#     data['Departure Scheduled Date'] = data['Departure Scheduled Time'].dt.date\n",
    "#     data['Departure Scheduled Time'] = data['Departure Scheduled Time'].apply(lambda x: x.timestamp())\n",
    "#     data['Arrival Scheduled Time'] = data['Arrival Scheduled Time'].apply(lambda x: x.timestamp())\n",
    "\n",
    "\n",
    "#     data['Departure Estimated Runway'] = data['Departure Estimated Runway'].apply(lambda x: x.timestamp())\n",
    "#     data['Departure Actual Runway'] = data['Departure Actual Runway'].apply(lambda x: x.timestamp())\n",
    "#     # for c in datetime_columns:\n",
    "#     #         data[c] = data[c].view('int64') // 10**9\n",
    "    \n",
    "#     return data\n",
    "\n",
    "# train = process_datetime_columns(train, 'Train')\n",
    "# test = process_datetime_columns(test, 'Test')\n"
   ]
  },
  {
   "cell_type": "code",
   "execution_count": 938,
   "id": "6469e418-1a06-4741-8386-8beaa35ea38a",
   "metadata": {},
   "outputs": [
    {
     "data": {
      "text/plain": [
       "Index(['Flight Type', 'Status', 'Departure IATA Code', 'Departure ICAO Code',\n",
       "       'Arrival IATA Code', 'Arrival ICAO Code', 'Arrival Scheduled Time',\n",
       "       'Airline Name', 'Airline IATA Code', 'Airline ICAO Code',\n",
       "       'Flight Number', 'Flight IATA Number', 'Flight ICAO Number', 'Delay',\n",
       "       'Departure Scheduled Day', 'Departure Scheduled Date',\n",
       "       'Departure Scheduled Hour', 'Departure Scheduled Year',\n",
       "       'Departure Actual Runway Date', 'Departure Actual Runway Day',\n",
       "       'Departure Actual Runway Hour', 'Departure Actual Runway Year'],\n",
       "      dtype='object')"
      ]
     },
     "execution_count": 938,
     "metadata": {},
     "output_type": "execute_result"
    }
   ],
   "source": [
    "test.columns"
   ]
  },
  {
   "cell_type": "code",
   "execution_count": 939,
   "id": "b341fde2-5d02-4d38-9680-6d31b4670ca1",
   "metadata": {},
   "outputs": [],
   "source": [
    "w_data['Date'] = pd.to_datetime(w_data['Date'])\n",
    "train = pd.merge(train, w_data, left_on=\"Departure Scheduled Date\", right_on=\"Date\", how=\"left\")\n",
    "test = pd.merge(test, w_data, left_on=\"Departure Scheduled Date\", right_on=\"Date\", how=\"left\")\n",
    "#test_binary = pd.merge(test_binary, w_data, left_on=\"Departure Scheduled Date\", right_on=\"Date\", how=\"left\")"
   ]
  },
  {
   "cell_type": "code",
   "execution_count": 940,
   "id": "0247ef99-133f-4cf0-8a6b-06329714cd52",
   "metadata": {},
   "outputs": [
    {
     "name": "stdout",
     "output_type": "stream",
     "text": [
      "<class 'pandas.core.frame.DataFrame'>\n",
      "RangeIndex: 51572 entries, 0 to 51571\n",
      "Data columns (total 29 columns):\n",
      " #   Column                        Non-Null Count  Dtype         \n",
      "---  ------                        --------------  -----         \n",
      " 0   Flight Type                   51572 non-null  object        \n",
      " 1   Status                        51572 non-null  object        \n",
      " 2   Departure IATA Code           51572 non-null  object        \n",
      " 3   Departure ICAO Code           51572 non-null  object        \n",
      " 4   Arrival IATA Code             51572 non-null  object        \n",
      " 5   Arrival ICAO Code             51572 non-null  object        \n",
      " 6   Arrival Scheduled Time        51572 non-null  datetime64[ns]\n",
      " 7   Airline Name                  51572 non-null  object        \n",
      " 8   Airline IATA Code             51572 non-null  object        \n",
      " 9   Airline ICAO Code             51572 non-null  object        \n",
      " 10  Flight Number                 51572 non-null  int64         \n",
      " 11  Flight IATA Number            51572 non-null  object        \n",
      " 12  Flight ICAO Number            51572 non-null  object        \n",
      " 13  Delay                         51572 non-null  float64       \n",
      " 14  Departure Scheduled Day       51572 non-null  object        \n",
      " 15  Departure Scheduled Date      51572 non-null  object        \n",
      " 16  Departure Scheduled Hour      51572 non-null  int32         \n",
      " 17  Departure Scheduled Year      51572 non-null  int32         \n",
      " 18  Departure Actual Runway Date  51572 non-null  object        \n",
      " 19  Departure Actual Runway Day   51572 non-null  object        \n",
      " 20  Departure Actual Runway Hour  51572 non-null  int32         \n",
      " 21  Departure Actual Runway Year  51572 non-null  int32         \n",
      " 22  Temperature (°F)              50653 non-null  object        \n",
      " 23  Dew Point (°F)                50653 non-null  object        \n",
      " 24  Humidity (%)                  50653 non-null  object        \n",
      " 25  Wind Speed (mph)              50653 non-null  object        \n",
      " 26  Pressure (in)                 50653 non-null  object        \n",
      " 27  Precipitation (in)            50653 non-null  object        \n",
      " 28  Date                          50653 non-null  object        \n",
      "dtypes: datetime64[ns](1), float64(1), int32(4), int64(1), object(22)\n",
      "memory usage: 10.6+ MB\n"
     ]
    }
   ],
   "source": [
    "train.info()"
   ]
  },
  {
   "cell_type": "code",
   "execution_count": 941,
   "id": "a7e0ec52-21ec-420f-b517-23de1f0bbcf4",
   "metadata": {},
   "outputs": [],
   "source": [
    "#test.columns"
   ]
  },
  {
   "cell_type": "code",
   "execution_count": 942,
   "id": "0e883ad6-2058-4fba-96d7-a9b83870e140",
   "metadata": {},
   "outputs": [
    {
     "name": "stdout",
     "output_type": "stream",
     "text": [
      "<class 'pandas.core.frame.DataFrame'>\n",
      "RangeIndex: 14910 entries, 0 to 14909\n",
      "Data columns (total 29 columns):\n",
      " #   Column                        Non-Null Count  Dtype         \n",
      "---  ------                        --------------  -----         \n",
      " 0   Flight Type                   14910 non-null  object        \n",
      " 1   Status                        14910 non-null  object        \n",
      " 2   Departure IATA Code           14910 non-null  object        \n",
      " 3   Departure ICAO Code           14910 non-null  object        \n",
      " 4   Arrival IATA Code             14910 non-null  object        \n",
      " 5   Arrival ICAO Code             14910 non-null  object        \n",
      " 6   Arrival Scheduled Time        14910 non-null  datetime64[ns]\n",
      " 7   Airline Name                  14910 non-null  object        \n",
      " 8   Airline IATA Code             14910 non-null  object        \n",
      " 9   Airline ICAO Code             14910 non-null  object        \n",
      " 10  Flight Number                 14910 non-null  int64         \n",
      " 11  Flight IATA Number            14910 non-null  object        \n",
      " 12  Flight ICAO Number            14910 non-null  object        \n",
      " 13  Delay                         14910 non-null  float64       \n",
      " 14  Departure Scheduled Day       14910 non-null  object        \n",
      " 15  Departure Scheduled Date      14910 non-null  object        \n",
      " 16  Departure Scheduled Hour      14910 non-null  int32         \n",
      " 17  Departure Scheduled Year      14910 non-null  int32         \n",
      " 18  Departure Actual Runway Date  14910 non-null  object        \n",
      " 19  Departure Actual Runway Day   14910 non-null  object        \n",
      " 20  Departure Actual Runway Hour  14910 non-null  int32         \n",
      " 21  Departure Actual Runway Year  14910 non-null  int32         \n",
      " 22  Temperature (°F)              14658 non-null  object        \n",
      " 23  Dew Point (°F)                14658 non-null  object        \n",
      " 24  Humidity (%)                  14658 non-null  object        \n",
      " 25  Wind Speed (mph)              14658 non-null  object        \n",
      " 26  Pressure (in)                 14658 non-null  object        \n",
      " 27  Precipitation (in)            14658 non-null  object        \n",
      " 28  Date                          14658 non-null  object        \n",
      "dtypes: datetime64[ns](1), float64(1), int32(4), int64(1), object(22)\n",
      "memory usage: 3.1+ MB\n"
     ]
    }
   ],
   "source": [
    "test.info()"
   ]
  },
  {
   "cell_type": "code",
   "execution_count": 943,
   "id": "9508be0a-0acc-44ff-9850-45614424efb8",
   "metadata": {},
   "outputs": [],
   "source": [
    "train.drop(columns=['Date'], inplace=True)\n",
    "test.drop(columns=['Date'], inplace=True)"
   ]
  },
  {
   "cell_type": "code",
   "execution_count": 944,
   "id": "5cc7aec3-cec5-4897-bf07-6a91f6462fa9",
   "metadata": {},
   "outputs": [],
   "source": [
    "# test_binary.drop(columns=['Date', 'Departure Scheduled Date'], inplace=True)\n"
   ]
  },
  {
   "cell_type": "code",
   "execution_count": 945,
   "id": "f6ec98b2-d57d-4925-8546-259bb087dbb8",
   "metadata": {},
   "outputs": [],
   "source": [
    "# test_binary.drop(columns = ['Arrival Estimated Time'], inplace = True)"
   ]
  },
  {
   "cell_type": "code",
   "execution_count": 946,
   "id": "09038111-b226-4012-b508-5a635a9cbc7e",
   "metadata": {},
   "outputs": [
    {
     "name": "stdout",
     "output_type": "stream",
     "text": [
      "<class 'pandas.core.frame.DataFrame'>\n",
      "RangeIndex: 51572 entries, 0 to 51571\n",
      "Data columns (total 28 columns):\n",
      " #   Column                        Non-Null Count  Dtype         \n",
      "---  ------                        --------------  -----         \n",
      " 0   Flight Type                   51572 non-null  object        \n",
      " 1   Status                        51572 non-null  object        \n",
      " 2   Departure IATA Code           51572 non-null  object        \n",
      " 3   Departure ICAO Code           51572 non-null  object        \n",
      " 4   Arrival IATA Code             51572 non-null  object        \n",
      " 5   Arrival ICAO Code             51572 non-null  object        \n",
      " 6   Arrival Scheduled Time        51572 non-null  datetime64[ns]\n",
      " 7   Airline Name                  51572 non-null  object        \n",
      " 8   Airline IATA Code             51572 non-null  object        \n",
      " 9   Airline ICAO Code             51572 non-null  object        \n",
      " 10  Flight Number                 51572 non-null  int64         \n",
      " 11  Flight IATA Number            51572 non-null  object        \n",
      " 12  Flight ICAO Number            51572 non-null  object        \n",
      " 13  Delay                         51572 non-null  float64       \n",
      " 14  Departure Scheduled Day       51572 non-null  object        \n",
      " 15  Departure Scheduled Date      51572 non-null  object        \n",
      " 16  Departure Scheduled Hour      51572 non-null  int32         \n",
      " 17  Departure Scheduled Year      51572 non-null  int32         \n",
      " 18  Departure Actual Runway Date  51572 non-null  object        \n",
      " 19  Departure Actual Runway Day   51572 non-null  object        \n",
      " 20  Departure Actual Runway Hour  51572 non-null  int32         \n",
      " 21  Departure Actual Runway Year  51572 non-null  int32         \n",
      " 22  Temperature (°F)              50653 non-null  object        \n",
      " 23  Dew Point (°F)                50653 non-null  object        \n",
      " 24  Humidity (%)                  50653 non-null  object        \n",
      " 25  Wind Speed (mph)              50653 non-null  object        \n",
      " 26  Pressure (in)                 50653 non-null  object        \n",
      " 27  Precipitation (in)            50653 non-null  object        \n",
      "dtypes: datetime64[ns](1), float64(1), int32(4), int64(1), object(21)\n",
      "memory usage: 10.2+ MB\n"
     ]
    }
   ],
   "source": [
    "train.info()"
   ]
  },
  {
   "cell_type": "code",
   "execution_count": 947,
   "id": "a0627b1b-fdbf-4eee-b449-aa59c5c92873",
   "metadata": {},
   "outputs": [],
   "source": [
    "columns_to_fill = [\n",
    "    \"Temperature (°F)\",\n",
    "    \"Dew Point (°F)\",\n",
    "    \"Humidity (%)\",\n",
    "    \"Wind Speed (mph)\",\n",
    "    \"Pressure (in)\",\n",
    "    \"Precipitation (in)\"\n",
    "]\n",
    "\n",
    "# Apply forward fill to the selected columns\n",
    "train[columns_to_fill] = train[columns_to_fill].ffill(axis=0)\n",
    "test[columns_to_fill] = test[columns_to_fill].ffill(axis=0)\n",
    "#test_binary[columns_to_fill] = test[columns_to_fill].ffill(axis=0)"
   ]
  },
  {
   "cell_type": "code",
   "execution_count": 948,
   "id": "52c61acb-5a42-4f35-be8a-c043235dfacc",
   "metadata": {},
   "outputs": [
    {
     "name": "stdout",
     "output_type": "stream",
     "text": [
      "<class 'pandas.core.frame.DataFrame'>\n",
      "RangeIndex: 51572 entries, 0 to 51571\n",
      "Data columns (total 28 columns):\n",
      " #   Column                        Non-Null Count  Dtype         \n",
      "---  ------                        --------------  -----         \n",
      " 0   Flight Type                   51572 non-null  object        \n",
      " 1   Status                        51572 non-null  object        \n",
      " 2   Departure IATA Code           51572 non-null  object        \n",
      " 3   Departure ICAO Code           51572 non-null  object        \n",
      " 4   Arrival IATA Code             51572 non-null  object        \n",
      " 5   Arrival ICAO Code             51572 non-null  object        \n",
      " 6   Arrival Scheduled Time        51572 non-null  datetime64[ns]\n",
      " 7   Airline Name                  51572 non-null  object        \n",
      " 8   Airline IATA Code             51572 non-null  object        \n",
      " 9   Airline ICAO Code             51572 non-null  object        \n",
      " 10  Flight Number                 51572 non-null  int64         \n",
      " 11  Flight IATA Number            51572 non-null  object        \n",
      " 12  Flight ICAO Number            51572 non-null  object        \n",
      " 13  Delay                         51572 non-null  float64       \n",
      " 14  Departure Scheduled Day       51572 non-null  object        \n",
      " 15  Departure Scheduled Date      51572 non-null  object        \n",
      " 16  Departure Scheduled Hour      51572 non-null  int32         \n",
      " 17  Departure Scheduled Year      51572 non-null  int32         \n",
      " 18  Departure Actual Runway Date  51572 non-null  object        \n",
      " 19  Departure Actual Runway Day   51572 non-null  object        \n",
      " 20  Departure Actual Runway Hour  51572 non-null  int32         \n",
      " 21  Departure Actual Runway Year  51572 non-null  int32         \n",
      " 22  Temperature (°F)              51572 non-null  object        \n",
      " 23  Dew Point (°F)                51572 non-null  object        \n",
      " 24  Humidity (%)                  51572 non-null  object        \n",
      " 25  Wind Speed (mph)              51572 non-null  object        \n",
      " 26  Pressure (in)                 51572 non-null  object        \n",
      " 27  Precipitation (in)            51572 non-null  object        \n",
      "dtypes: datetime64[ns](1), float64(1), int32(4), int64(1), object(21)\n",
      "memory usage: 10.2+ MB\n"
     ]
    }
   ],
   "source": [
    "train.info()"
   ]
  },
  {
   "cell_type": "code",
   "execution_count": 949,
   "id": "4c15fd02-c52d-4879-97f6-c828df287740",
   "metadata": {},
   "outputs": [
    {
     "name": "stdout",
     "output_type": "stream",
     "text": [
      "<class 'pandas.core.frame.DataFrame'>\n",
      "RangeIndex: 14910 entries, 0 to 14909\n",
      "Data columns (total 28 columns):\n",
      " #   Column                        Non-Null Count  Dtype         \n",
      "---  ------                        --------------  -----         \n",
      " 0   Flight Type                   14910 non-null  object        \n",
      " 1   Status                        14910 non-null  object        \n",
      " 2   Departure IATA Code           14910 non-null  object        \n",
      " 3   Departure ICAO Code           14910 non-null  object        \n",
      " 4   Arrival IATA Code             14910 non-null  object        \n",
      " 5   Arrival ICAO Code             14910 non-null  object        \n",
      " 6   Arrival Scheduled Time        14910 non-null  datetime64[ns]\n",
      " 7   Airline Name                  14910 non-null  object        \n",
      " 8   Airline IATA Code             14910 non-null  object        \n",
      " 9   Airline ICAO Code             14910 non-null  object        \n",
      " 10  Flight Number                 14910 non-null  int64         \n",
      " 11  Flight IATA Number            14910 non-null  object        \n",
      " 12  Flight ICAO Number            14910 non-null  object        \n",
      " 13  Delay                         14910 non-null  float64       \n",
      " 14  Departure Scheduled Day       14910 non-null  object        \n",
      " 15  Departure Scheduled Date      14910 non-null  object        \n",
      " 16  Departure Scheduled Hour      14910 non-null  int32         \n",
      " 17  Departure Scheduled Year      14910 non-null  int32         \n",
      " 18  Departure Actual Runway Date  14910 non-null  object        \n",
      " 19  Departure Actual Runway Day   14910 non-null  object        \n",
      " 20  Departure Actual Runway Hour  14910 non-null  int32         \n",
      " 21  Departure Actual Runway Year  14910 non-null  int32         \n",
      " 22  Temperature (°F)              14910 non-null  object        \n",
      " 23  Dew Point (°F)                14910 non-null  object        \n",
      " 24  Humidity (%)                  14910 non-null  object        \n",
      " 25  Wind Speed (mph)              14910 non-null  object        \n",
      " 26  Pressure (in)                 14910 non-null  object        \n",
      " 27  Precipitation (in)            14910 non-null  object        \n",
      "dtypes: datetime64[ns](1), float64(1), int32(4), int64(1), object(21)\n",
      "memory usage: 3.0+ MB\n"
     ]
    }
   ],
   "source": [
    "test.info()"
   ]
  },
  {
   "cell_type": "code",
   "execution_count": 950,
   "id": "123f230e-222b-4511-9487-14590b53badc",
   "metadata": {},
   "outputs": [],
   "source": [
    "cols = [col for col in train.columns if col != 'Delay'] + ['Delay']\n",
    "train = train[cols]\n",
    "test = test[cols]"
   ]
  },
  {
   "cell_type": "code",
   "execution_count": 951,
   "id": "9af3b629-4f07-4961-8158-ffb002369c53",
   "metadata": {},
   "outputs": [
    {
     "data": {
      "text/plain": [
       "Index(['Flight Type', 'Status', 'Departure IATA Code', 'Departure ICAO Code',\n",
       "       'Arrival IATA Code', 'Arrival ICAO Code', 'Arrival Scheduled Time',\n",
       "       'Airline Name', 'Airline IATA Code', 'Airline ICAO Code',\n",
       "       'Flight Number', 'Flight IATA Number', 'Flight ICAO Number',\n",
       "       'Departure Scheduled Day', 'Departure Scheduled Date',\n",
       "       'Departure Scheduled Hour', 'Departure Scheduled Year',\n",
       "       'Departure Actual Runway Date', 'Departure Actual Runway Day',\n",
       "       'Departure Actual Runway Hour', 'Departure Actual Runway Year',\n",
       "       'Temperature (°F)', 'Dew Point (°F)', 'Humidity (%)',\n",
       "       'Wind Speed (mph)', 'Pressure (in)', 'Precipitation (in)', 'Delay'],\n",
       "      dtype='object')"
      ]
     },
     "execution_count": 951,
     "metadata": {},
     "output_type": "execute_result"
    }
   ],
   "source": [
    "train.columns"
   ]
  },
  {
   "cell_type": "code",
   "execution_count": 952,
   "id": "0420a54b-04c4-4dd7-b671-be1c20382735",
   "metadata": {},
   "outputs": [
    {
     "data": {
      "text/plain": [
       "Index(['Flight Type', 'Status', 'Departure IATA Code', 'Departure ICAO Code',\n",
       "       'Arrival IATA Code', 'Arrival ICAO Code', 'Arrival Scheduled Time',\n",
       "       'Airline Name', 'Airline IATA Code', 'Airline ICAO Code',\n",
       "       'Flight Number', 'Flight IATA Number', 'Flight ICAO Number',\n",
       "       'Departure Scheduled Day', 'Departure Scheduled Date',\n",
       "       'Departure Scheduled Hour', 'Departure Scheduled Year',\n",
       "       'Departure Actual Runway Date', 'Departure Actual Runway Day',\n",
       "       'Departure Actual Runway Hour', 'Departure Actual Runway Year',\n",
       "       'Temperature (°F)', 'Dew Point (°F)', 'Humidity (%)',\n",
       "       'Wind Speed (mph)', 'Pressure (in)', 'Precipitation (in)', 'Delay'],\n",
       "      dtype='object')"
      ]
     },
     "execution_count": 952,
     "metadata": {},
     "output_type": "execute_result"
    }
   ],
   "source": [
    "test.columns"
   ]
  },
  {
   "cell_type": "code",
   "execution_count": 953,
   "id": "6e7c6046-61f8-47b2-8ef9-29c505349240",
   "metadata": {},
   "outputs": [],
   "source": [
    "train.to_csv('train_processed_data.csv', index=False)"
   ]
  },
  {
   "cell_type": "code",
   "execution_count": 954,
   "id": "1a1cf3df-41a3-49ab-a0e5-a1873d398c1e",
   "metadata": {},
   "outputs": [],
   "source": [
    "test.to_csv('test_processed_data.csv', index=False)\n"
   ]
  },
  {
   "cell_type": "code",
   "execution_count": 538,
   "id": "d722c8ae-6758-4bf5-9c83-6ad10b5c6cae",
   "metadata": {},
   "outputs": [],
   "source": [
    "#test_binary.to_csv('bintest_processed_data.csv', index=False)"
   ]
  },
  {
   "cell_type": "code",
   "execution_count": null,
   "id": "ebf4c3e9-4a99-4d92-8875-5b7bc4616e5c",
   "metadata": {},
   "outputs": [],
   "source": []
  },
  {
   "cell_type": "code",
   "execution_count": null,
   "id": "861f6bd7-3f3f-4a66-8546-dea68f010700",
   "metadata": {},
   "outputs": [],
   "source": []
  },
  {
   "cell_type": "code",
   "execution_count": null,
   "id": "ae3b9245-e170-4405-9d88-73550a4f80b6",
   "metadata": {},
   "outputs": [],
   "source": []
  }
 ],
 "metadata": {
  "kernelspec": {
   "display_name": "Python 3 (ipykernel)",
   "language": "python",
   "name": "python3"
  },
  "language_info": {
   "codemirror_mode": {
    "name": "ipython",
    "version": 3
   },
   "file_extension": ".py",
   "mimetype": "text/x-python",
   "name": "python",
   "nbconvert_exporter": "python",
   "pygments_lexer": "ipython3",
   "version": "3.12.3"
  }
 },
 "nbformat": 4,
 "nbformat_minor": 5
}
